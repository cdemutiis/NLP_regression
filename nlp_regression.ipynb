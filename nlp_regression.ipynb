{
 "cells": [
  {
   "cell_type": "markdown",
   "metadata": {},
   "source": [
    "<!---\n",
    "Latex Macros\n",
    "-->\n",
    "$$\n",
    "\\newcommand{\\bar}{\\,|\\,}\n",
    "\\newcommand{\\Xs}{\\mathcal{X}}\n",
    "\\newcommand{\\Ys}{\\mathcal{Y}}\n",
    "\\newcommand{\\y}{\\mathbf{y}}\n",
    "\\newcommand{\\weights}{\\mathbf{w}}\n",
    "\\newcommand{\\balpha}{\\boldsymbol{\\alpha}}\n",
    "\\newcommand{\\bbeta}{\\boldsymbol{\\beta}}\n",
    "\\newcommand{\\aligns}{\\mathbf{a}}\n",
    "\\newcommand{\\align}{a}\n",
    "\\newcommand{\\source}{\\mathbf{s}}\n",
    "\\newcommand{\\target}{\\mathbf{t}}\n",
    "\\newcommand{\\ssource}{s}\n",
    "\\newcommand{\\starget}{t}\n",
    "\\newcommand{\\repr}{\\mathbf{f}}\n",
    "\\newcommand{\\repry}{\\mathbf{g}}\n",
    "\\newcommand{\\x}{\\mathbf{x}}\n",
    "\\newcommand{\\prob}{p}\n",
    "\\newcommand{\\vocab}{V}\n",
    "\\newcommand{\\params}{\\boldsymbol{\\theta}}\n",
    "\\newcommand{\\param}{\\theta}\n",
    "\\DeclareMathOperator{\\perplexity}{PP}\n",
    "\\DeclareMathOperator{\\argmax}{argmax}\n",
    "\\DeclareMathOperator{\\argmin}{argmin}\n",
    "\\newcommand{\\train}{\\mathcal{D}}\n",
    "\\newcommand{\\counts}[2]{\\#_{#1}(#2) }\n",
    "\\newcommand{\\length}[1]{\\text{length}(#1) }\n",
    "\\newcommand{\\indi}{\\mathbb{I}}\n",
    "$$"
   ]
  },
  {
   "cell_type": "markdown",
   "metadata": {},
   "source": [
    "# Assignment 2\n",
    "\n",
    "## Introduction\n",
    "In this assignment you will build the first stage of a biomedical event extractor. Biomedical events are state changes of biomolecules. For example, if you have a protein and you add a phosphate (PO4) group to it, this is referred to as a phosphorylation event. Many papers in the biomedical literature mention such events. The grand goal of biomedical event extraction is to teach machines how to read this literature and produce structured representations of biomedical events that biomedical researchers can query effectively. This task has received considerable attention in the NLP literature, and is the topic of a biennial [shared task](http://2011.bionlp-st.org/). We will use the data from this task as starting point for this assignment.   \n",
    "\n",
    "To illustrate biomedical event extraction, let us consider an example. From the sentence \n",
    "\n",
    "> **phosphorylation** of TRAF2 **inhibits** **binding** to the CD40 domain\n",
    "\n",
    "we could extract the structure \n",
    "\n",
    "> Negative_Regulation(Phosphorylation(TRAF2), Binding(TRAF2, CD40)\n",
    "\n",
    "and store it in a database. Someone can then query this database, for example, to figure out all ways to prevent binding of TRAF2 to CD40.\n",
    "\n",
    "The task is often divided into two steps. First you need to find **trigger** words in the sentence that correspond to biomedical events, and determine their event type *label*. For example, in the above sentence \"phosphorylation\" is a trigger word for an event of type \"Phosphorylation\", \"inhibits\" a trigger word for a \"Negative Regulation\" event, and \"binding\" a trigger for a \"Binding\" event. Notice that sometimes the type labels are obvious, but often they are not. Also note that the label of a word could be \"None\". For example, the word \"of\" in the above sentence has the label \"None\".  \n",
    "\n",
    "The second step requires the extractor to produce **argument relations** between event triggers and protein mentions or other event triggers. For example, in the above case the argument of \"phosphorylation\" is \"TRAF2\", and one argument of \"inhibits\" is \"phosphorylation of TRAF2\" whereas the other is \"binding to the CD40 domain\". In this assignment you **do not have to do this**. We will focus on the event trigger detection problem exclusively. \n",
    "\n",
    "## Goal\n",
    "Your goal is to develop an event trigger labeler. This extractor is given a sentence and a candidate token. Both constitute the input $\\x$. One such input could be: \n",
    "\n",
    "> $\\x$: phosphorylation of TRAF2 **inhibits** binding to the CD40 domain\n",
    "\n",
    "The goal is to predict the label $y$ of the candidate event trigger. In the above case the label would be $y=\\text{Negative_Regulation}$. \n",
    "\n",
    "Some candidates may not refer to event triggers at all. For example:\n",
    "\n",
    "> $\\x$: phosphorylation **of** TRAF2 inhibits binding to the CD40 domain\n",
    "\n",
    "In such cases the label is $y=\\text{None}$.\n",
    "\n",
    "## Resources\n",
    "To develop your model you have access to:\n",
    "\n",
    "* The data in `data/bionlp/train`. This data can be split into training and dev set (as done below), or used for cross-validation.\n",
    "* Helper code stored in the python module [bio.py](/edit/statnlpbook/bio.py).\n",
    "* Libraries on the [docker image](https://github.com/uclmr/stat-nlp-book/blob/python/Dockerfile) which contains everything in [this image](https://github.com/jupyter/docker-stacks/tree/master/scipy-notebook), including scikit-learn and tensorflow. \n",
    "\n",
    "As we have to run the notebooks of all students, and because writing efficient code is important, **your notebook should run in 5 minutes at most**, on your machine. Further comments:\n",
    "\n",
    "* We have tested a possible solution on the Azure VMs and it ran in about 30s, so it is possible to train a reasonable model on the data in reasonable time. If you find training times too long for your development cycle you can reduce the training set size. Once you have found a good solution you can increase the size again. Caveat: model parameters tuned on a smaller dataset may not be optimal for a larger training set.\n",
    "\n",
    "* Try to run your parameter optimisation offline, such that in your answer notebook the best parameters are already set and don't need to be searched. Include your optimisation code in the notebook, but don't call it at each notebook run."
   ]
  },
  {
   "cell_type": "markdown",
   "metadata": {},
   "source": [
    "## Hint\n",
    "While you do not need to predict the arguments of an event, it is important to understand how trigger labels relate to the syntactic and semantic arguments of the trigger word. Features that can capture this relation might help you in improving the result. Do inspect the data and try to get an understanding of it. That said, you don't have to be a biomedical expert to do well in this task. A few of the best results on the task were achieved by NLP researchers without any biomedical experience. They would, however, still inspect the data carefully.  "
   ]
  },
  {
   "cell_type": "markdown",
   "metadata": {},
   "source": [
    "## Setup Instructions\n",
    "It is important that this file is placed in the **correct directory**. It will not run otherwise. The correct directory is\n",
    "\n",
    "    DIRECTORY_OF_YOUR_BOOK/assignments/2016/assignment2/problem/\n",
    "    \n",
    "where `DIRECTORY_OF_YOUR_BOOK` is a placeholder for the directory you downloaded the book to. After you placed it there, **rename the file** to your UCL ID (of the form `ucxxxxx`). "
   ]
  },
  {
   "cell_type": "markdown",
   "metadata": {},
   "source": [
    "## General Instructions\n",
    "This notebook will be used by you to provide your solution, and by us to both assess your solution and enter your marks. It contains three types of sections:\n",
    "\n",
    "1. **Setup** Sections: these sections set up code and resources for assessment. **Do not edit, move nor copy these cells**.\n",
    "2. **Assessment** Sections: these sections are used for both evaluating the output of your code, and for markers to enter their marks. **Do not edit, move, nor copy these cells**.\n",
    "3. **Task** Sections: these sections require your solutions. They may contain stub code, and you are expected to edit this code. For free text answers simply edit the markdown field.  \n",
    "\n",
    "**If you edit, move or copy any of the setup, assessments and mark cells, you will be penalised with -10 points**.\n",
    "\n",
    "Note that you are free to **create additional notebook cells** within a task section. \n",
    "\n",
    "Please **do not share** this assignment publicly, by uploading it online, emailing it to friends etc. "
   ]
  },
  {
   "cell_type": "markdown",
   "metadata": {},
   "source": [
    "## Submission Instructions\n",
    "\n",
    "To submit your solution:\n",
    "\n",
    "* Make sure that your solution is fully contained in this notebook. \n",
    "* Make sure that your solution runs linearly from start to end (no execution hops). We will run your notebook in that order.\n",
    "* **If running your notebook produces a trivially fixable error that we spot, we will correct it and penalise you with -10 points. Otherwise you will get 0 points for that solution.**\n",
    "* **Rename this notebook to your UCL ID** (of the form \"ucxxxxx\"), if you have not already done so. ** Failure to do so will result in -1 point.**\n",
    "* Download the notebook in Jupyter via *File -> Download as -> Notebook (.ipynb)*.\n",
    "* Upload the notebook to the Moodle submission site."
   ]
  },
  {
   "cell_type": "markdown",
   "metadata": {},
   "source": [
    "## <font color='green'>Setup 1</font>: Load Libraries\n",
    "This cell loads libraries important for evaluation and assessment of your model. **Do not change, move or copy it.**"
   ]
  },
  {
   "cell_type": "code",
   "execution_count": 25,
   "metadata": {
    "collapsed": false
   },
   "outputs": [],
   "source": [
    "%%capture\n",
    "%load_ext autoreload\n",
    "%autoreload 2\n",
    "%matplotlib inline\n",
    "#! SETUP 1 - DO NOT CHANGE, MOVE NOR COPY\n",
    "import sys, os\n",
    "_snlp_book_dir = \"../../../../\"\n",
    "sys.path.append(_snlp_book_dir) \n",
    "import math\n",
    "from collections import defaultdict\n",
    "import statnlpbook.bio as bio"
   ]
  },
  {
   "cell_type": "markdown",
   "metadata": {},
   "source": [
    "## <font color='green'>Setup 2</font>: Load Training Data\n",
    "\n",
    "This cell loads the training data. **Do not edit this setup section, nor copy it**. Instead refer to the variables in your own code, and slice and dice them as you see fit (but do not change their values). For example, no one will stop you from introducing, in the corresponding task section, `my_event_train` and `my_event_dev` variables that split the data into different folds.   \n",
    "\n",
    "Notice that the data is loaded from `json` files like [this one](/edit/data/bionlp/train/PMC-1310901-00-TIAB.json). Generally, you do not need to understand this format, as we provide loading functions that produce more convenient data structures shown below. But do feel free to investigate. "
   ]
  },
  {
   "cell_type": "code",
   "execution_count": 26,
   "metadata": {
    "collapsed": false
   },
   "outputs": [],
   "source": [
    "#! SETUP 2 - DO NOT CHANGE, MOVE NOR COPY\n",
    "train_path = _snlp_book_dir + \"data/bionlp/train\"\n",
    "event_corpus = bio.load_assignment2_training_data(train_path)\n",
    "event_train = event_corpus[:len(event_corpus)//4 * 3]\n",
    "event_dev = event_corpus[len(event_corpus)//4 * 3:]\n",
    "assert(len(event_train)==53988)"
   ]
  },
  {
   "cell_type": "markdown",
   "metadata": {},
   "source": [
    "## Data Structures\n",
    "The data comes in the form of pairs consisting of `EventCandidate` objects and their trigger labels. The `EventCandidate` class can be found in [bio.py](/edit/statnlpbook/bio.py)."
   ]
  },
  {
   "cell_type": "code",
   "execution_count": 27,
   "metadata": {
    "collapsed": false
   },
   "outputs": [
    {
     "data": {
      "text/plain": [
       "(<statnlpbook.bio.EventCandidate at 0x7f5143c0e5c0>, 'Negative_regulation')"
      ]
     },
     "execution_count": 27,
     "metadata": {},
     "output_type": "execute_result"
    }
   ],
   "source": [
    "event_candidate, label = event_corpus[0]\n",
    "(event_candidate, label)"
   ]
  },
  {
   "cell_type": "markdown",
   "metadata": {},
   "source": [
    "Event candidate objects specify the classification problem. They consist of a sentence `sent` and the position `trigger_index` of the trigger candidate word. "
   ]
  },
  {
   "cell_type": "code",
   "execution_count": 28,
   "metadata": {
    "collapsed": false
   },
   "outputs": [
    {
     "data": {
      "text/html": [
       "Down-regulation of interferon regulatory factor 4 gene expression in leukemic cells due to hypermethylation of CpG motifs in the promoter region Although the bcr -abl translocation has been shown to be the causative genetic aberration in chronic myeloid leukemia ( CML ) , there is mounting evidence that the deregulation of other genes , such as the transcription factor interferon regulatory factor 4 ( IRF-4 ) , is also implicated in the pathogenesis of CML ."
      ],
      "text/plain": [
       "<statnlpbook.bio.Sentence at 0x7f5143c0e588>"
      ]
     },
     "execution_count": 28,
     "metadata": {},
     "output_type": "execute_result"
    }
   ],
   "source": [
    "event_candidate.sent"
   ]
  },
  {
   "cell_type": "code",
   "execution_count": 29,
   "metadata": {
    "collapsed": false
   },
   "outputs": [
    {
     "data": {
      "text/plain": [
       "0"
      ]
     },
     "execution_count": 29,
     "metadata": {},
     "output_type": "execute_result"
    }
   ],
   "source": [
    "event_candidate.trigger_index"
   ]
  },
  {
   "cell_type": "markdown",
   "metadata": {},
   "source": [
    "Event candidates also have a set of candidate arguments. These point to token spans (index of first token, inclusive, index of last token, exclusive) in the sentence that may or may not be *arguments* of the event. In the full event extraction task one needs to predict which of these candidates are true arguments of the events. However, here we will ignore this task, and give you only the information what candidates exist, not what their labels are. Note that this information can still be **very important** to understand what type of event the candidate corresponds to, if any. "
   ]
  },
  {
   "cell_type": "code",
   "execution_count": 30,
   "metadata": {
    "collapsed": false
   },
   "outputs": [
    {
     "data": {
      "text/plain": [
       "[(2, 6), (23, 24), (24, 25), (59, 63)]"
      ]
     },
     "execution_count": 30,
     "metadata": {},
     "output_type": "execute_result"
    }
   ],
   "source": [
    "event_candidate.argument_candidate_spans[:4]"
   ]
  },
  {
   "cell_type": "markdown",
   "metadata": {},
   "source": [
    "You can compactly visualise the complete candidate using `bio.render_event`, as shown below. Here the green span corresponds to the token at the trigger index. The spans in red brackets correspond to the argument candidates. The blue spans are protein mentions. "
   ]
  },
  {
   "cell_type": "code",
   "execution_count": 31,
   "metadata": {
    "collapsed": false
   },
   "outputs": [
    {
     "data": {
      "text/html": [
       "<font color='green'>Down-regulation</font> <font color='red'>[</font>of<font color='red'>]</font> <font color='red'>[</font><font color='blue'>[interferon regulatory factor 4]</font><font color='red'>]</font> gene <font color='red'>[</font>expression<font color='red'>]</font> in leukemic cells <font color='red'>[</font>due<font color='red'>]</font> <font color='red'>[</font>to<font color='red'>]</font> hypermethylation <font color='red'>[</font>of<font color='red'>]</font> CpG motifs in the <font color='red'>[</font>promoter<font color='red'>]</font> region Although the <font color='red'>[</font><font color='blue'>[bcr]</font><font color='red'>]</font> <font color='red'>[</font><font color='blue'>[-abl]</font><font color='red'>]</font> <font color='red'>[</font>translocation<font color='red'>]</font> has been shown <font color='red'>[</font>to<font color='red'>]</font> be the causative genetic <font color='red'>[</font>aberration<font color='red'>]</font> in chronic myeloid leukemia ( CML ) , there is mounting evidence <font color='red'>[</font>that<font color='red'>]</font> the <font color='red'>[</font>deregulation<font color='red'>]</font> <font color='red'>[</font>of<font color='red'>]</font> other genes , such as the <font color='red'>[</font>transcription<font color='red'>]</font> <font color='red'>[</font>factor<font color='red'>]</font> <font color='red'>[</font><font color='blue'>[interferon regulatory factor 4]</font><font color='red'>]</font> ( <font color='red'>[</font><font color='blue'>[IRF-4]</font><font color='red'>]</font> ) , is also <font color='red'>[</font>implicated<font color='red'>]</font> in the pathogenesis <font color='red'>[</font>of<font color='red'>]</font> CML ."
      ],
      "text/plain": [
       "<IPython.core.display.HTML object>"
      ]
     },
     "execution_count": 31,
     "metadata": {},
     "output_type": "execute_result"
    }
   ],
   "source": [
    "bio.render_event(event_candidate)"
   ]
  },
  {
   "cell_type": "markdown",
   "metadata": {},
   "source": [
    "### Sentences\n",
    "The sentence object of an event candidate provides additional information about the sentence, such as what spans are proteins, what Part-of-Speech labels the tokens have, and a dependency parse of the sentence. First, the `tokens` field of a sentence provides useful features of tokens: "
   ]
  },
  {
   "cell_type": "code",
   "execution_count": 32,
   "metadata": {
    "collapsed": false
   },
   "outputs": [
    {
     "data": {
      "text/plain": [
       "{'begin': 0,\n",
       " 'end': 15,\n",
       " 'index': 0,\n",
       " 'pos': 'NN',\n",
       " 'stem': 'Down-regul',\n",
       " 'word': 'Down-regulation'}"
      ]
     },
     "execution_count": 32,
     "metadata": {},
     "output_type": "execute_result"
    }
   ],
   "source": [
    "event_candidate.sent.tokens[0]"
   ]
  },
  {
   "cell_type": "markdown",
   "metadata": {},
   "source": [
    "The `dependencies` field stores lexical dependencies between words:"
   ]
  },
  {
   "cell_type": "code",
   "execution_count": 33,
   "metadata": {
    "collapsed": false
   },
   "outputs": [
    {
     "data": {
      "text/plain": [
       "[{'head': 44, 'label': 'nsubj', 'mod': 0},\n",
       " {'head': 4, 'label': 'nn', 'mod': 2}]"
      ]
     },
     "execution_count": 33,
     "metadata": {},
     "output_type": "execute_result"
    }
   ],
   "source": [
    "event_candidate.sent.dependencies[:2]"
   ]
  },
  {
   "cell_type": "markdown",
   "metadata": {},
   "source": [
    "You can render the dependency graph of a sentence like so:"
   ]
  },
  {
   "cell_type": "code",
   "execution_count": 34,
   "metadata": {
    "collapsed": false
   },
   "outputs": [
    {
     "data": {
      "text/html": [
       "\n",
       "    <div id='displacy3' style=\"overflow: scroll; width: 5000px;\"></div>\n",
       "    <script>\n",
       "    $(function() {\n",
       "    requirejs.config({\n",
       "        paths: {\n",
       "            'displaCy': ['/files/node_modules/displacy/displacy'],\n",
       "                                                  // strip .js ^, require adds it back\n",
       "        },\n",
       "    });\n",
       "    require(['displaCy'], function() {\n",
       "        console.log(\"Loaded :)\");\n",
       "        const displacy = new displaCy('http://localhost:8000', {\n",
       "            container: '#displacy3',\n",
       "            format: 'spacy',\n",
       "            distance: 150,\n",
       "            offsetX: 0,\n",
       "            wordSpacing: 20,\n",
       "            arrowSpacing: 3,\n",
       "\n",
       "        });\n",
       "        const parse = {\n",
       "            arcs: [{\"end\": 44, \"label\": \"nsubj\", \"start\": 0, \"dir\": \"left\"}, {\"end\": 4, \"label\": \"nn\", \"start\": 2, \"dir\": \"left\"}, {\"end\": 4, \"label\": \"amod\", \"start\": 3, \"dir\": \"left\"}, {\"end\": 7, \"label\": \"nn\", \"start\": 4, \"dir\": \"left\"}, {\"end\": 5, \"label\": \"num\", \"start\": 4, \"dir\": \"right\"}, {\"end\": 7, \"label\": \"nn\", \"start\": 6, \"dir\": \"left\"}, {\"end\": 7, \"label\": \"prep_of\", \"start\": 0, \"dir\": \"right\"}, {\"end\": 10, \"label\": \"amod\", \"start\": 9, \"dir\": \"left\"}, {\"end\": 10, \"label\": \"prep_in\", \"start\": 7, \"dir\": \"right\"}, {\"end\": 13, \"label\": \"prep_due_to\", \"start\": 7, \"dir\": \"right\"}, {\"end\": 16, \"label\": \"nn\", \"start\": 15, \"dir\": \"left\"}, {\"end\": 16, \"label\": \"prep_of\", \"start\": 13, \"dir\": \"right\"}, {\"end\": 20, \"label\": \"det\", \"start\": 18, \"dir\": \"left\"}, {\"end\": 20, \"label\": \"nn\", \"start\": 19, \"dir\": \"left\"}, {\"end\": 20, \"label\": \"prep_in\", \"start\": 0, \"dir\": \"right\"}, {\"end\": 28, \"label\": \"mark\", \"start\": 21, \"dir\": \"left\"}, {\"end\": 25, \"label\": \"det\", \"start\": 22, \"dir\": \"left\"}, {\"end\": 25, \"label\": \"nn\", \"start\": 23, \"dir\": \"left\"}, {\"end\": 25, \"label\": \"nn\", \"start\": 24, \"dir\": \"left\"}, {\"end\": 28, \"label\": \"nsubjpass\", \"start\": 25, \"dir\": \"left\"}, {\"end\": 34, \"label\": \"xsubj\", \"start\": 25, \"dir\": \"left\"}, {\"end\": 28, \"label\": \"aux\", \"start\": 26, \"dir\": \"left\"}, {\"end\": 28, \"label\": \"auxpass\", \"start\": 27, \"dir\": \"left\"}, {\"end\": 44, \"label\": \"advcl\", \"start\": 28, \"dir\": \"left\"}, {\"end\": 34, \"label\": \"aux\", \"start\": 29, \"dir\": \"left\"}, {\"end\": 34, \"label\": \"cop\", \"start\": 30, \"dir\": \"left\"}, {\"end\": 34, \"label\": \"det\", \"start\": 31, \"dir\": \"left\"}, {\"end\": 34, \"label\": \"amod\", \"start\": 32, \"dir\": \"left\"}, {\"end\": 34, \"label\": \"amod\", \"start\": 33, \"dir\": \"left\"}, {\"end\": 34, \"label\": \"xcomp\", \"start\": 28, \"dir\": \"right\"}, {\"end\": 38, \"label\": \"amod\", \"start\": 36, \"dir\": \"left\"}, {\"end\": 38, \"label\": \"amod\", \"start\": 37, \"dir\": \"left\"}, {\"end\": 38, \"label\": \"prep_in\", \"start\": 34, \"dir\": \"right\"}, {\"end\": 40, \"label\": \"abbrev\", \"start\": 38, \"dir\": \"right\"}, {\"end\": 44, \"label\": \"expl\", \"start\": 43, \"dir\": \"left\"}, {\"end\": 46, \"label\": \"amod\", \"start\": 45, \"dir\": \"left\"}, {\"end\": 46, \"label\": \"nsubj\", \"start\": 44, \"dir\": \"right\"}, {\"end\": 69, \"label\": \"complm\", \"start\": 47, \"dir\": \"left\"}, {\"end\": 49, \"label\": \"det\", \"start\": 48, \"dir\": \"left\"}, {\"end\": 69, \"label\": \"nsubjpass\", \"start\": 49, \"dir\": \"left\"}, {\"end\": 52, \"label\": \"amod\", \"start\": 51, \"dir\": \"left\"}, {\"end\": 52, \"label\": \"prep_of\", \"start\": 49, \"dir\": \"right\"}, {\"end\": 61, \"label\": \"det\", \"start\": 56, \"dir\": \"left\"}, {\"end\": 61, \"label\": \"nn\", \"start\": 57, \"dir\": \"left\"}, {\"end\": 61, \"label\": \"nn\", \"start\": 58, \"dir\": \"left\"}, {\"end\": 61, \"label\": \"nn\", \"start\": 59, \"dir\": \"left\"}, {\"end\": 61, \"label\": \"amod\", \"start\": 60, \"dir\": \"left\"}, {\"end\": 61, \"label\": \"prep_such_as\", \"start\": 52, \"dir\": \"right\"}, {\"end\": 62, \"label\": \"num\", \"start\": 61, \"dir\": \"right\"}, {\"end\": 64, \"label\": \"abbrev\", \"start\": 61, \"dir\": \"right\"}, {\"end\": 69, \"label\": \"auxpass\", \"start\": 67, \"dir\": \"left\"}, {\"end\": 69, \"label\": \"advmod\", \"start\": 68, \"dir\": \"left\"}, {\"end\": 69, \"label\": \"ccomp\", \"start\": 46, \"dir\": \"right\"}, {\"end\": 72, \"label\": \"det\", \"start\": 71, \"dir\": \"left\"}, {\"end\": 72, \"label\": \"prep_in\", \"start\": 69, \"dir\": \"right\"}, {\"end\": 74, \"label\": \"prep_of\", \"start\": 72, \"dir\": \"right\"}],\n",
       "            words: [{\"tag\": \"NN\", \"text\": \"Down-regulation\"}, {\"tag\": \"IN\", \"text\": \"of\"}, {\"tag\": \"NN\", \"text\": \"interferon\"}, {\"tag\": \"JJ\", \"text\": \"regulatory\"}, {\"tag\": \"NN\", \"text\": \"factor\"}, {\"tag\": \"CD\", \"text\": \"4\"}, {\"tag\": \"NN\", \"text\": \"gene\"}, {\"tag\": \"NN\", \"text\": \"expression\"}, {\"tag\": \"IN\", \"text\": \"in\"}, {\"tag\": \"JJ\", \"text\": \"leukemic\"}, {\"tag\": \"NNS\", \"text\": \"cells\"}, {\"tag\": \"IN\", \"text\": \"due\"}, {\"tag\": \"TO\", \"text\": \"to\"}, {\"tag\": \"NN\", \"text\": \"hypermethylation\"}, {\"tag\": \"IN\", \"text\": \"of\"}, {\"tag\": \"NN\", \"text\": \"CpG\"}, {\"tag\": \"NNS\", \"text\": \"motifs\"}, {\"tag\": \"IN\", \"text\": \"in\"}, {\"tag\": \"DT\", \"text\": \"the\"}, {\"tag\": \"NN\", \"text\": \"promoter\"}, {\"tag\": \"NN\", \"text\": \"region\"}, {\"tag\": \"IN\", \"text\": \"Although\"}, {\"tag\": \"DT\", \"text\": \"the\"}, {\"tag\": \"NN\", \"text\": \"bcr\"}, {\"tag\": \"NN\", \"text\": \"-abl\"}, {\"tag\": \"NN\", \"text\": \"translocation\"}, {\"tag\": \"VBZ\", \"text\": \"has\"}, {\"tag\": \"VBN\", \"text\": \"been\"}, {\"tag\": \"VBN\", \"text\": \"shown\"}, {\"tag\": \"TO\", \"text\": \"to\"}, {\"tag\": \"VB\", \"text\": \"be\"}, {\"tag\": \"DT\", \"text\": \"the\"}, {\"tag\": \"JJ\", \"text\": \"causative\"}, {\"tag\": \"JJ\", \"text\": \"genetic\"}, {\"tag\": \"NN\", \"text\": \"aberration\"}, {\"tag\": \"IN\", \"text\": \"in\"}, {\"tag\": \"JJ\", \"text\": \"chronic\"}, {\"tag\": \"JJ\", \"text\": \"myeloid\"}, {\"tag\": \"NN\", \"text\": \"leukemia\"}, {\"tag\": \"-LRB-\", \"text\": \"(\"}, {\"tag\": \"NN\", \"text\": \"CML\"}, {\"tag\": \"-RRB-\", \"text\": \")\"}, {\"tag\": \",\", \"text\": \",\"}, {\"tag\": \"EX\", \"text\": \"there\"}, {\"tag\": \"VBZ\", \"text\": \"is\"}, {\"tag\": \"JJ\", \"text\": \"mounting\"}, {\"tag\": \"NN\", \"text\": \"evidence\"}, {\"tag\": \"IN\", \"text\": \"that\"}, {\"tag\": \"DT\", \"text\": \"the\"}, {\"tag\": \"NN\", \"text\": \"deregulation\"}, {\"tag\": \"IN\", \"text\": \"of\"}, {\"tag\": \"JJ\", \"text\": \"other\"}, {\"tag\": \"NNS\", \"text\": \"genes\"}, {\"tag\": \",\", \"text\": \",\"}, {\"tag\": \"JJ\", \"text\": \"such\"}, {\"tag\": \"IN\", \"text\": \"as\"}, {\"tag\": \"DT\", \"text\": \"the\"}, {\"tag\": \"NN\", \"text\": \"transcription\"}, {\"tag\": \"NN\", \"text\": \"factor\"}, {\"tag\": \"NN\", \"text\": \"interferon\"}, {\"tag\": \"JJ\", \"text\": \"regulatory\"}, {\"tag\": \"NN\", \"text\": \"factor\"}, {\"tag\": \"CD\", \"text\": \"4\"}, {\"tag\": \"-LRB-\", \"text\": \"(\"}, {\"tag\": \"NN\", \"text\": \"IRF-4\"}, {\"tag\": \"-RRB-\", \"text\": \")\"}, {\"tag\": \",\", \"text\": \",\"}, {\"tag\": \"VBZ\", \"text\": \"is\"}, {\"tag\": \"RB\", \"text\": \"also\"}, {\"tag\": \"VBN\", \"text\": \"implicated\"}, {\"tag\": \"IN\", \"text\": \"in\"}, {\"tag\": \"DT\", \"text\": \"the\"}, {\"tag\": \"NN\", \"text\": \"pathogenesis\"}, {\"tag\": \"IN\", \"text\": \"of\"}, {\"tag\": \"NN\", \"text\": \"CML\"}, {\"tag\": \".\", \"text\": \".\"}]\n",
       "        };\n",
       "\n",
       "        displacy.render(parse, {\n",
       "            uniqueId: 'render_displacy3'\n",
       "            //color: '#ff0000'\n",
       "        });\n",
       "        return {};\n",
       "    });\n",
       "    });\n",
       "    </script>"
      ],
      "text/plain": [
       "<IPython.core.display.HTML object>"
      ]
     },
     "execution_count": 34,
     "metadata": {},
     "output_type": "execute_result"
    }
   ],
   "source": [
    "bio.render_dependencies(event_candidate.sent)"
   ]
  },
  {
   "cell_type": "markdown",
   "metadata": {},
   "source": [
    "You can learn about the dependency labels in the [Stanford typed dependencies manual](http://nlp.stanford.edu/software/dependencies_manual.pdf). We also provide [lecture notes on dependency parsing](/notebooks/chapters/Transition-based%20dependency%20parsing.ipynb), including various pointers to more information. \n",
    "\n",
    "The `mentions` stores which spans correspond to proteins."
   ]
  },
  {
   "cell_type": "code",
   "execution_count": 35,
   "metadata": {
    "collapsed": false
   },
   "outputs": [
    {
     "data": {
      "text/plain": [
       "[{'begin': 2, 'end': 6, 'label': 'Protein'},\n",
       " {'begin': 23, 'end': 24, 'label': 'Protein'},\n",
       " {'begin': 24, 'end': 25, 'label': 'Protein'},\n",
       " {'begin': 59, 'end': 63, 'label': 'Protein'},\n",
       " {'begin': 64, 'end': 65, 'label': 'Protein'}]"
      ]
     },
     "execution_count": 35,
     "metadata": {},
     "output_type": "execute_result"
    }
   ],
   "source": [
    "event_candidate.sent.mentions"
   ]
  },
  {
   "cell_type": "markdown",
   "metadata": {},
   "source": [
    "There are some convenience functions for the sentence to check all the syntactic parents or children of a token, or whether a specific token is within a protein mention. These can be useful when designing features:"
   ]
  },
  {
   "cell_type": "code",
   "execution_count": 36,
   "metadata": {
    "collapsed": false
   },
   "outputs": [
    {
     "data": {
      "text/plain": [
       "([(44, 'nsubj')], [(7, 'prep_of'), (20, 'prep_in')])"
      ]
     },
     "execution_count": 36,
     "metadata": {},
     "output_type": "execute_result"
    }
   ],
   "source": [
    "event_candidate.sent.parents[0], event_candidate.sent.children[0] "
   ]
  },
  {
   "cell_type": "code",
   "execution_count": 37,
   "metadata": {
    "collapsed": false
   },
   "outputs": [
    {
     "data": {
      "text/plain": [
       "(True, False)"
      ]
     },
     "execution_count": 37,
     "metadata": {},
     "output_type": "execute_result"
    }
   ],
   "source": [
    "event_candidate.sent.is_protein[3], event_candidate.sent.is_protein[7]"
   ]
  },
  {
   "cell_type": "markdown",
   "metadata": {},
   "source": [
    "### Labels\n",
    "It is useful to know the complete set of event labels:"
   ]
  },
  {
   "cell_type": "code",
   "execution_count": 38,
   "metadata": {
    "collapsed": false
   },
   "outputs": [
    {
     "data": {
      "text/plain": [
       "{'Binding',\n",
       " 'Gene_expression',\n",
       " 'Localization',\n",
       " 'Negative_regulation',\n",
       " 'None',\n",
       " 'Phosphorylation',\n",
       " 'Positive_regulation',\n",
       " 'Protein_catabolism',\n",
       " 'Regulation',\n",
       " 'Transcription'}"
      ]
     },
     "execution_count": 38,
     "metadata": {},
     "output_type": "execute_result"
    }
   ],
   "source": [
    "{y for _,y in event_corpus}"
   ]
  },
  {
   "cell_type": "markdown",
   "metadata": {},
   "source": [
    "## <font color='blue'>Task 1</font>: Create a Feature Function\n",
    "\n",
    "In this task you will extract a specific feature representation $\\repr(\\x)$ for an event candidate $\\x$. In particular, we want to add as features the syntactic children (modifiers) of the trigger token, together with their syntactic dependency label. A modifier of a token $h$ is a token $m$ that modifies $h$'s meaning. For example, in the noun phrase \"green light\" the adjective \"green\" modifies the noun \"light\". We will refer to the modifier token as the \"child\", and the modified token as \"parent\". Correspondingly, in the dependency graph modifiers are the child nodes of the modified tokens.  \n",
    "\n",
    "The feature function will have to be implemented as a python function that populates a python dictionary with key-value pairs where the key indicates both the word and syntactic label of the child. \n",
    "\n",
    "For example, consider the following event and dependency parse:"
   ]
  },
  {
   "cell_type": "code",
   "execution_count": 39,
   "metadata": {
    "collapsed": false
   },
   "outputs": [
    {
     "data": {
      "text/html": [
       "\n",
       "    <div id='displacy4' style=\"overflow: scroll; width: 5000px;\"></div>\n",
       "    <script>\n",
       "    $(function() {\n",
       "    requirejs.config({\n",
       "        paths: {\n",
       "            'displaCy': ['/files/node_modules/displacy/displacy'],\n",
       "                                                  // strip .js ^, require adds it back\n",
       "        },\n",
       "    });\n",
       "    require(['displaCy'], function() {\n",
       "        console.log(\"Loaded :)\");\n",
       "        const displacy = new displaCy('http://localhost:8000', {\n",
       "            container: '#displacy4',\n",
       "            format: 'spacy',\n",
       "            distance: 150,\n",
       "            offsetX: 0,\n",
       "            wordSpacing: 20,\n",
       "            arrowSpacing: 3,\n",
       "\n",
       "        });\n",
       "        const parse = {\n",
       "            arcs: [{\"end\": 2, \"label\": \"det\", \"start\": 0, \"dir\": \"left\"}, {\"end\": 2, \"label\": \"nn\", \"start\": 1, \"dir\": \"left\"}, {\"end\": 4, \"label\": \"nsubjpass\", \"start\": 2, \"dir\": \"left\"}, {\"end\": 4, \"label\": \"auxpass\", \"start\": 3, \"dir\": \"left\"}, {\"end\": 10, \"label\": \"det\", \"start\": 6, \"dir\": \"left\"}, {\"end\": 8, \"label\": \"number\", \"start\": 7, \"dir\": \"left\"}, {\"end\": 10, \"label\": \"amod\", \"start\": 8, \"dir\": \"left\"}, {\"end\": 10, \"label\": \"nn\", \"start\": 9, \"dir\": \"left\"}, {\"end\": 10, \"label\": \"prep_on\", \"start\": 4, \"dir\": \"right\"}, {\"end\": 13, \"label\": \"auxpass\", \"start\": 12, \"dir\": \"left\"}, {\"end\": 13, \"label\": \"dep\", \"start\": 4, \"dir\": \"right\"}, {\"end\": 16, \"label\": \"nn\", \"start\": 15, \"dir\": \"left\"}, {\"end\": 16, \"label\": \"prep_with\", \"start\": 13, \"dir\": \"right\"}, {\"end\": 18, \"label\": \"dep\", \"start\": 4, \"dir\": \"right\"}, {\"end\": 18, \"label\": \"conj_and\", \"start\": 13, \"dir\": \"right\"}],\n",
       "            words: [{\"tag\": \"DT\", \"text\": \"The\"}, {\"tag\": \"NN\", \"text\": \"PCR\"}, {\"tag\": \"NNS\", \"text\": \"products\"}, {\"tag\": \"VBD\", \"text\": \"were\"}, {\"tag\": \"VBN\", \"text\": \"electrophoresed\"}, {\"tag\": \"IN\", \"text\": \"on\"}, {\"tag\": \"DT\", \"text\": \"a\"}, {\"tag\": \"CD\", \"text\": \"3\"}, {\"tag\": \"NN\", \"text\": \"%\"}, {\"tag\": \"NN\", \"text\": \"agarose\"}, {\"tag\": \"NN\", \"text\": \"gel\"}, {\"tag\": \",\", \"text\": \",\"}, {\"tag\": \"VBD\", \"text\": \"were\"}, {\"tag\": \"VBN\", \"text\": \"stained\"}, {\"tag\": \"IN\", \"text\": \"with\"}, {\"tag\": \"NN\", \"text\": \"ethidium\"}, {\"tag\": \"NN\", \"text\": \"bromide\"}, {\"tag\": \"CC\", \"text\": \"and\"}, {\"tag\": \"VBN\", \"text\": \"photographed\"}, {\"tag\": \".\", \"text\": \".\"}]\n",
       "        };\n",
       "\n",
       "        displacy.render(parse, {\n",
       "            uniqueId: 'render_displacy4'\n",
       "            //color: '#ff0000'\n",
       "        });\n",
       "        return {};\n",
       "    });\n",
       "    });\n",
       "    </script>"
      ],
      "text/plain": [
       "<IPython.core.display.HTML object>"
      ]
     },
     "execution_count": 39,
     "metadata": {},
     "output_type": "execute_result"
    }
   ],
   "source": [
    "example = event_corpus[398][0]\n",
    "bio.render_dependencies(example.sent)"
   ]
  },
  {
   "cell_type": "markdown",
   "metadata": {},
   "source": [
    "Here the goal is to produce a dictionary that maps the strings \"Child: det->The\" and \"Child: nn->PCR\" to 1.0. \n",
    "\n",
    "To solve this task, implement the feature function below. The passed in `result` is a dictionary you need to populate with more entries, and the `event` argument indicates for which event you need to extract the features. We have already populated the function with some initial code that should get you started.  "
   ]
  },
  {
   "cell_type": "code",
   "execution_count": 40,
   "metadata": {
    "collapsed": false
   },
   "outputs": [],
   "source": [
    "def add_dependency_child_feats(result, event):\n",
    "    \"\"\"\n",
    "    Append to the `result` dictionary features based on the syntactic dependencies of the event trigger word of\n",
    "    `event`. The feature keys should have the form \"Child: [label]->[word]\" where \"[label]\" is the syntactic label\n",
    "    of the syntatic child (e.g. \"det\" in the case above), and \"[word]\" is the word of the syntactic child (e.g. \"The\" \n",
    "    in the case above).\n",
    "    Args:\n",
    "        result: a defaultdict that returns `0.0` by default. \n",
    "        event: the event for which we want to populate the `result` dictionary with dependency features.\n",
    "    Returns:\n",
    "        Nothing, but populates the `result` dictionary. \n",
    "    \"\"\"\n",
    "    index = event.trigger_index\n",
    "    if len(event.sent.children[index]) > 0: \n",
    "        for child,label in event.sent.children[index]:\n",
    "            child_name = event.sent.tokens[child]['word']\n",
    "            result[\"Child: \" + label + \"->\" + child_name] += 1.0"
   ]
  },
  {
   "cell_type": "markdown",
   "metadata": {},
   "source": [
    "## <font color='red'>Assessment 1</font>: Test Feature Function (20 pts)\n",
    "Here we test whether your feature function populates the given dictionary correctly. If the result passes all three tests you get 10 pts. Of course, solutions that just manually populate the result with the specific key value pairs tested below will receive 0 pts as well."
   ]
  },
  {
   "cell_type": "code",
   "execution_count": 41,
   "metadata": {
    "collapsed": false
   },
   "outputs": [
    {
     "data": {
      "text/plain": [
       "(True, True, True)"
      ]
     },
     "execution_count": 41,
     "metadata": {},
     "output_type": "execute_result"
    }
   ],
   "source": [
    "#! ASSESSMENT 1 - DO NOT CHANGE, MOVE NOR COPY\n",
    "result = defaultdict(float)\n",
    "add_dependency_child_feats(result, example)\n",
    "\n",
    "check_1 = len(result) == 2\n",
    "check_2 = result['Child: det->The'] == 1.0\n",
    "check_3 = result['Child: nn->PCR'] == 1.0\n",
    "(check_1, check_2, check_3)"
   ]
  },
  {
   "cell_type": "markdown",
   "metadata": {},
   "source": [
    "## <font color='orange'>Mark</font>:  Your solution to Task 1 is marked with ** __ points**. \n",
    "---"
   ]
  },
  {
   "cell_type": "markdown",
   "metadata": {},
   "source": [
    "## <font color='blue'>Task 2</font>: Implement Model\n",
    "\n",
    "You are to implement the `predict_event_labels` function below. This function gets as input a list of event candidate objects, and then returns a sequence of corresponding labels. You can implement this function in any way you like, again utilising any library on the docker image. We have populated the cell and function with a simple implementation that uses the scikit-learn logistic regression model. You can use this as a starting point and focus on implementing better feature functions. You can also start from scratch if you like. \n"
   ]
  },
  {
   "cell_type": "code",
   "execution_count": 42,
   "metadata": {
    "collapsed": false
   },
   "outputs": [],
   "source": [
    "from sklearn.linear_model import LogisticRegression\n",
    "import numpy as np\n",
    "import string\n",
    "import sys\n",
    "from collections import defaultdict\n",
    "\n",
    "\n",
    "from sklearn.feature_extraction import DictVectorizer\n",
    "from sklearn.preprocessing import LabelEncoder\n",
    "\n",
    "sys.setrecursionlimit(10000)\n",
    "\n",
    "# converts labels into integers, and vice versa, needed by scikit-learn.\n",
    "label_encoder = LabelEncoder()\n",
    "\n",
    "# encodes feature dictionaries as numpy vectors, needed by scikit-learn.\n",
    "vectorizer = DictVectorizer()\n",
    "\n",
    "# This list of English stop words is taken from the \"Glasgow Information\n",
    "# Retrieval Group\". The original list can be found at\n",
    "# http://ir.dcs.gla.ac.uk/resources/linguistic_utils/stop_words\n",
    "ENGLISH_STOP_WORDS = frozenset([\n",
    "    \"a\", \"about\", \"above\", \"across\", \"after\", \"afterwards\", \"again\", \"against\",\n",
    "    \"all\", \"almost\", \"alone\", \"along\", \"already\", \"also\", \"although\", \"always\",\n",
    "    \"am\", \"among\", \"amongst\", \"amoungst\", \"amount\", \"an\", \"and\", \"another\",\n",
    "    \"any\", \"anyhow\", \"anyone\", \"anything\", \"anyway\", \"anywhere\", \"are\",\n",
    "    \"around\", \"as\", \"at\", \"back\", \"be\", \"became\", \"because\", \"become\",\n",
    "    \"becomes\", \"becoming\", \"been\", \"before\", \"beforehand\", \"behind\", \"being\",\n",
    "    \"below\", \"beside\", \"besides\", \"between\", \"beyond\", \"bill\", \"both\",\n",
    "    \"bottom\", \"but\", \"by\", \"call\", \"can\", \"cannot\", \"cant\", \"co\", \"con\",\n",
    "    \"could\", \"couldnt\", \"cry\", \"de\", \"describe\", \"detail\", \"do\", \"done\",\n",
    "    \"down\", \"due\", \"during\", \"each\", \"eg\", \"eight\", \"either\", \"eleven\", \"else\",\n",
    "    \"elsewhere\", \"empty\", \"enough\", \"etc\", \"even\", \"ever\", \"every\", \"everyone\",\n",
    "    \"everything\", \"everywhere\", \"except\", \"few\", \"fifteen\", \"fifty\", \"fill\",\n",
    "    \"find\", \"fire\", \"first\", \"five\", \"for\", \"former\", \"formerly\", \"forty\",\n",
    "    \"found\", \"four\", \"from\", \"front\", \"full\", \"further\", \"get\", \"give\", \"go\",\n",
    "    \"had\", \"has\", \"hasnt\", \"have\", \"he\", \"hence\", \"her\", \"here\", \"hereafter\",\n",
    "    \"hereby\", \"herein\", \"hereupon\", \"hers\", \"herself\", \"him\", \"himself\", \"his\",\n",
    "    \"how\", \"however\", \"hundred\", \"i\", \"ie\", \"if\", \"in\", \"inc\", \"indeed\",\n",
    "    \"interest\", \"into\", \"is\", \"it\", \"its\", \"itself\", \"keep\", \"last\", \"latter\",\n",
    "    \"latterly\", \"least\", \"less\", \"ltd\", \"made\", \"many\", \"may\", \"me\",\n",
    "    \"meanwhile\", \"might\", \"mill\", \"mine\", \"more\", \"moreover\", \"most\", \"mostly\",\n",
    "    \"move\", \"much\", \"must\", \"my\", \"myself\", \"name\", \"namely\", \"neither\",\n",
    "    \"never\", \"nevertheless\", \"next\", \"nine\", \"no\", \"nobody\", \"none\", \"noone\",\n",
    "    \"nor\", \"not\", \"nothing\", \"now\", \"nowhere\", \"of\", \"off\", \"often\", \"on\",\n",
    "    \"once\", \"one\", \"only\", \"onto\", \"or\", \"other\", \"others\", \"otherwise\", \"our\",\n",
    "    \"ours\", \"ourselves\", \"out\", \"over\", \"own\", \"part\", \"per\", \"perhaps\",\n",
    "    \"please\", \"put\", \"rather\", \"re\", \"same\", \"see\", \"seem\", \"seemed\",\n",
    "    \"seeming\", \"seems\", \"serious\", \"several\", \"she\", \"should\", \"show\", \"side\",\n",
    "    \"since\", \"sincere\", \"six\", \"sixty\", \"so\", \"some\", \"somehow\", \"someone\",\n",
    "    \"something\", \"sometime\", \"sometimes\", \"somewhere\", \"still\", \"such\",\n",
    "    \"system\", \"take\", \"ten\", \"than\", \"that\", \"the\", \"their\", \"them\",\n",
    "    \"themselves\", \"then\", \"thence\", \"there\", \"thereafter\", \"thereby\",\n",
    "    \"therefore\", \"therein\", \"thereupon\", \"these\", \"they\", \"thick\", \"thin\",\n",
    "    \"third\", \"this\", \"those\", \"though\", \"three\", \"through\", \"throughout\",\n",
    "    \"thru\", \"thus\", \"to\", \"together\", \"too\", \"top\", \"toward\", \"towards\",\n",
    "    \"twelve\", \"twenty\", \"two\", \"un\", \"under\", \"until\", \"up\", \"upon\", \"us\",\n",
    "    \"very\", \"via\", \"was\", \"we\", \"well\", \"were\", \"what\", \"whatever\", \"when\",\n",
    "    \"whence\", \"whenever\", \"where\", \"whereafter\", \"whereas\", \"whereby\",\n",
    "    \"wherein\", \"whereupon\", \"wherever\", \"whether\", \"which\", \"while\", \"whither\",\n",
    "    \"who\", \"whoever\", \"whole\", \"whom\", \"whose\", \"why\", \"will\", \"with\",\n",
    "    \"within\", \"without\", \"would\", \"yet\", \"you\", \"your\", \"yours\", \"yourself\",\n",
    "    \"yourselves\"])\n",
    "\n",
    "# I used the website http://www.thesaurus.com as an aid to find the following \"negative\" words\n",
    "NEGATIVE_WORDS = ([\"inhibit\",\"constrain\",\"curb\",\"discourag\",\"forbid\", \"hinder\", \"imped\",\n",
    "                  \"obstruct\",\"outlaw\",\"prohibit\",\"restrain\",\"stym\",\"suppress\",\"arrest\",\n",
    "                  \"avert\",\"repress\",\"stop\",\"withhold\",\"bar\",\"block\",\"break\",\"paus\",\n",
    "                  \"reduc\",\"curtail\",\"cut\",\"cut down\",\"diminish\",\"dwindl\",\"lessen\",\n",
    "                  \"lower\",\"par\",\"scale down\",\"shorten\",\"slash\",\"trim\",\"weaken\",\"abat\",\n",
    "                  \"decreas\",\"contract\",\"cutback\",\"declin\",\"shrink\",\"fail\",\"breakdown\",\n",
    "                  \"collaps\",\"defeat\",\"deficiency\",\"deteriorat\",\"loss\",\"misstep\",\"lose\",\n",
    "                  \"failur\"])\n",
    "\n",
    "# The boolean function is_candidate(event, token) checks whether a given token in an event is \n",
    "# part of a candidate argument\n",
    "def is_candidate(event, token):\n",
    "    for candidate in event.argument_candidate_spans[:]:\n",
    "        start = candidate[0]\n",
    "        end = candidate[1]\n",
    "        if token >= start and token < end:\n",
    "            return 1.0 \n",
    "            break\n",
    "    return 0\n",
    "\n",
    "# The function add_dependency_child_feats2(result, event) assigns a variety of children dependency \n",
    "# features to a given observation\n",
    "def add_dependency_child_feats2(result, event, trigger_word, index, trigger_pos):\n",
    "    flag1 = True \n",
    "    flag2 = True\n",
    "    if len(event.sent.children[index]) > 0: \n",
    "        for child,label in event.sent.children[index]:\n",
    "            child_name = event.sent.tokens[child]['word']\n",
    "            result[\"Child: \" + label + \"->\" + child_name] += 1.0\n",
    "            result[\"Child_dependency_type: \" + label] += 1.0\n",
    "            pos = event.sent.tokens[child]['pos']\n",
    "            result[\"Child_pos: \" + pos] += 1.0\n",
    "            result[\"Child_pos_dependency: \" + pos + \" \" + label] += 1.0\n",
    "            if flag1 and event.sent.is_protein[child]:\n",
    "                result[\"Has_child_protein: \"] = event.sent.is_protein[child]\n",
    "                flag1 = False\n",
    "            result[\"Child_protein: \" + child_name] += event.sent.is_protein[child]\n",
    "            result[\"Child_candidate: \" + child_name] += is_candidate(event, child)\n",
    "            # Tried Feature: result[\"Trigger_Protein: \" + trigger_word + child_name] += event.sent.is_protein[child]\n",
    "            result[\"Trigger_Candidate: \" + trigger_word + child_name] += is_candidate(event, child)\n",
    "            if event.sent.is_protein[child] and is_candidate(event, child):\n",
    "                result[\"Both_protein_and_candidate: \"] = 1\n",
    "            if event.sent.is_protein[child]:\n",
    "                result[\"Child_protein_path: \" + trigger_pos + label + pos] += 1.0\n",
    "            if len(event.sent.children[child]) > 0:  \n",
    "                for grand_child, grand_child_label in event.sent.children[child]:\n",
    "                    if flag2 and event.sent.is_protein[grand_child]:\n",
    "                        result[\"Has_grand_child_protein: \"] = event.sent.is_protein[grand_child]\n",
    "                        flag2 = False\n",
    "                    grand_pos = event.sent.tokens[grand_child]['pos']\n",
    "                    result[\"Grand_child_pos: \" + grand_pos] += 1.0\n",
    "                    result[\"Grand_child_dependency: \" + grand_pos + \" \" + grand_child_label] += 1.0\n",
    "                    grand_child_name = event.sent.tokens[grand_child]['word'] \n",
    "                    #Tried Features:\n",
    "                    #result[\"Path: \" + label + \"->\" + child_name + \"->\" + grand_child_label + \"->\" + grand_child_name]\n",
    "                    #result[\"Dep_path: \" + trigger_pos + \"->\" + label + \"->\" + pos + \"->\" + grand_child_label + \"->\" + grand_pos]\n",
    "                    #result[\"Path: \" + label + \"->\" + grand_child_label]\n",
    "                    result[\"Grand_child_candidate: \" + grand_child_name] += is_candidate(event, grand_child)\n",
    "                    if event.sent.is_protein[grand_child]:\n",
    "                        result[\"Grand_child_protein_path: \" + trigger_pos + \"->\" + label + \"->\" + pos + \"->\" + grand_child_label + \"->\" + grand_pos] += 1.0\n",
    "                        # Tried Feature\n",
    "                        #result[\"Grand_child_protein_word_path: \" + trigger_word + child_name + grand_child_name] += 1\n",
    "\n",
    "# The function add_dependency_parents_feats2(result, event) assigns a variety of parents dependency \n",
    "# features to a given observation\n",
    "def add_dependency_parents_feats2(result, event, trigger_word, index, trigger_pos):\n",
    "    flag1 = True \n",
    "    flag2 = True\n",
    "    if len(event.sent.parents[index]) > 0: \n",
    "        for parent,label in event.sent.parents[index]:\n",
    "            parent_name = event.sent.tokens[parent]['word']\n",
    "            result[\"Parent: \" + label + \"<-\" + parent_name] += 1.0\n",
    "            result[\"Parent_dependency_type: \" + label] += 1.0\n",
    "            pos = event.sent.tokens[parent]['pos']\n",
    "            result[\"Parent_pos: \" + pos] += 1.0\n",
    "            result[\"Parent_pos_dependency: \" + pos + \" \" + label] += 1.0\n",
    "            if flag1 and event.sent.is_protein[parent]:\n",
    "                result[\"Has_parent_protein: \"] = event.sent.is_protein[parent]\n",
    "                flag1 = False\n",
    "            # Tried Feature:\n",
    "            #if event.sent.is_protein[parent]:\n",
    "            #    result[\"Parent_protein_path: \" + pos + label + trigger_pos] += 1.0\n",
    "            if len(event.sent.parents[parent]) > 0:  \n",
    "                for grand_parent, grand_parent_label in event.sent.parents[parent]:\n",
    "                    if flag2 and event.sent.is_protein[grand_parent]:\n",
    "                        result[\"Has_grand_parent_protein: \"] = event.sent.is_protein[grand_parent]\n",
    "                        flag2 = False\n",
    "                    #Tried Features \n",
    "                    #grand_pos = event.sent.tokens[grand_parent]['pos']\n",
    "                    #result[\"Grand_parent_pos: \" + grand_pos] += 1.0\n",
    "                    #result[\"Grand_parent_dependency: \" + grand_pos + \" \" + grand_parent_label] += 1.0 \n",
    "                    \n",
    "\n",
    "# The function get_rid_of_stem_feat(result, event, trigger_word, trigger_stem) gets rid \n",
    "# of the trigger word's stem and uses the remaining part as a feature\n",
    "def get_rid_of_stem_feat(result, event, trigger_word, trigger_stem):\n",
    "    word_length = len(trigger_word)\n",
    "    stem_length = len(trigger_stem)\n",
    "    rest_trigger = trigger_word[stem_length:word_length]\n",
    "    result[\"Rest_trigger: \" + rest_trigger] += 1.0\n",
    "    #result[\"Is_gerund: \"] = (rest_trigger == \"ing\")\n",
    "\n",
    "# The function has_capital(result, trigger_word) checks whether the trigger word has a \n",
    "# capital letter and uses that as a feature\n",
    "def has_capital(result, trigger_word):\n",
    "    trigger_lower = trigger_word.lower()\n",
    "    result[\"Has_capital: \"] = not(trigger_word == trigger_lower)\n",
    "    \n",
    "# The function has_number(result, trigger_word) checks whether the trigger word \n",
    "# contains any number and uses that as a feature \n",
    "def has_number(result, trigger_word):\n",
    "    result[\"Has_number: \"] = any(char.isdigit() for char in trigger_word)\n",
    "\n",
    "# The function has_symbol(result, trigger_word) checks whether the trigger word \n",
    "# has \"-\", \"/\" or \"\\\" in it and uses that as a feature\n",
    "def has_symbol(result, trigger_word):\n",
    "    result[\"Has_symbol: \"] = ((\"-\" in trigger_word) or (\"/\" in trigger_word)) or (\"\\\\\" in trigger_word)\n",
    "\n",
    "# The function is_short(result,event, trigger_word) checks whether the trigger word \n",
    "# is \"short\" (i.e. 3 characters or less) or \"very short\" (i.e. 2 characters or less)\n",
    "# and uses that as a feature\n",
    "def is_short(result, event, trigger_word, index):\n",
    "    if not(event.sent.is_protein[index]):\n",
    "        result[\"Is_short: \"] = (len(trigger_word) <= 3) \n",
    "        result[\"Is_very_short: \"] = (len(trigger_word) <= 2) \n",
    "\n",
    "# The function add_bag_of_words(result, event) creates a bag of words for a given \n",
    "# observation and uses that as a feature\n",
    "def add_bag_of_words(result, event):\n",
    "    for i in event.sent.tokens:\n",
    "        result[\"Token: \" + i[\"word\"]] += 1 \n",
    "\n",
    "# The function is_stop_word(result, trigger_word) checks whether the trigger word \n",
    "# is a stop word and uses that as a feature \n",
    "def is_stop_word(result, trigger_word):\n",
    "    result[\"Is_stop_word: \"] = (trigger_word in ENGLISH_STOP_WORDS)\n",
    "\n",
    "# The function consecutive_grams(result,event,index) adds consecutive n-grams features\n",
    "def consecutive_grams(result, event, index):\n",
    "    if index - 1 >= 0:\n",
    "        result[\"Trigger_minus_1: \" + event.sent.tokens[index-1][\"stem\"]] += 1\n",
    "        result[\"Trigger_minus_1_pos: \" + event.sent.tokens[index-1][\"pos\"]] += 1\n",
    "    else:\n",
    "        result[\"Trigger_minus_1: \"] += 1\n",
    "        result[\"Trigger_minus_1_pos: \"] += 1\n",
    "    # Tried Feature:\n",
    "    #result[\"Trigger_minus_1_tot: \" + event.sent.tokens[index-1][\"stem\"] + \" \" + event.sent.tokens[index-1][\"pos\"]] += 1\n",
    "    if index + 1 < len(event.sent.tokens):\n",
    "        result[\"Trigger_plus_1: \" + event.sent.tokens[index+1][\"stem\"]] += 1\n",
    "        result[\"Trigger_plus_1_pos: \" + event.sent.tokens[index+1][\"pos\"]] += 1\n",
    "    else:\n",
    "        result[\"Trigger_plus_1: \"] += 1\n",
    "        result[\"Trigger_plus_1_pos: \"] += 1\n",
    "\n",
    "# The function make_protein_name(event_candidate, begin, end) returns the \n",
    "# protein name starting at token \"begin\" and ending at token \"end-1\" \n",
    "def make_protein_name(event_candidate, begin, end):\n",
    "    name = \"\"\n",
    "    for i in range(begin,end):\n",
    "        if i == begin:\n",
    "            name = name + str(event_candidate.sent.tokens[i]['word'])\n",
    "        else:\n",
    "            name = name + \" \" + str(event_candidate.sent.tokens[i]['word']) \n",
    "    return name \n",
    "\n",
    "# The function add_proteins_feats(result, event) adds a string feature that \n",
    "# results from the concatenation of all of the protein names appearing in \n",
    "# a given observation/event.\n",
    "def add_proteins_feats(result, event):\n",
    "    if len(event.sent.mentions) > 0:\n",
    "        protein_name = \"\"\n",
    "        for i in event.sent.mentions:\n",
    "            begin = i['begin']\n",
    "            end = i['end']\n",
    "            protein_name = protein_name + make_protein_name(event, begin, end)\n",
    "        result[\"Protein: \" + protein_name] += 1.0 \n",
    "\n",
    "# The function max_children_word(result,event) finds the token with the \n",
    "# maximum number of children for a given observation and uses that as a \n",
    "# feature\n",
    "def max_children_word(result, event):\n",
    "    max_children = 0;\n",
    "    max_index = 0;\n",
    "    for index in range(len(event.sent.tokens)):\n",
    "        num_children = len(event.sent.children[index])\n",
    "        if num_children > max_children:\n",
    "            max_children = num_children\n",
    "            max_index = index\n",
    "    result[\"Max_children_word: \" + event.sent.tokens[max_index][\"word\"]] += 1\n",
    "    # Tried Feature:\n",
    "    #result[\"Max_children_word_pos: \" + event.sent.tokens[max_index][\"pos\"]] += 1\n",
    "\n",
    "# The function has_dependencies(result,event,index) checks whether the \n",
    "# trigger word has any parents or children and uses that as a feature\n",
    "def has_dependencies(result, event, index):\n",
    "    result[\"Has_children: \"] = (len(event.sent.children[index])>0)\n",
    "    result[\"Has_parents: \"] = (len(event.sent.parents[index])>0)\n",
    "\n",
    "# The function count_dependencies(result, event, index) counts the \n",
    "# number of parents and children of a trigger word and uses these \n",
    "# numbers as features\n",
    "def count_dependencies(result, event, index):\n",
    "    result[\"Has_children: \"] = len(event.sent.children[index])\n",
    "    result[\"Has_parents: \"] = len(event.sent.parents[index])\n",
    "\n",
    "# The function is_punctuation(result, trigger_word) checks whether the \n",
    "# trigger word is a punctuation symbol and uses that as a feature\n",
    "def is_punctuation(result, trigger_word):\n",
    "    result[\"Is_punctuation: \"] = (trigger_word in string.punctuation)\n",
    "\n",
    "# The function number_of_proteins(result, event, index) counts the number of \n",
    "# proteins in an event and uses that as a feature\n",
    "def number_of_proteins(result, event, index):\n",
    "    result[\"Number_of_proteins: \" + event.sent.tokens[index][\"word\"]] += len(event.sent.mentions)\n",
    "    # Tried Feature:\n",
    "    #result[\"Protein_count: \"] += len(event.sent.mentions)\n",
    "\n",
    "# The function number_of_arguments(result, event) counts the number of \n",
    "# candidate arguments in an event and uses that as a feature\n",
    "def number_of_arguments(result, event):\n",
    "    result[\"Number_of_arguments: \"] = len(event.argument_candidate_spans)\n",
    "\n",
    "# The function make_sentence(event) returns a string corresponding to a given event \n",
    "def make_sentence(event):\n",
    "    sentence = \"\"\n",
    "    for token in event.sent.tokens:\n",
    "        sentence = sentence + token[\"word\"].lower()\n",
    "    return sentence\n",
    "    \n",
    "# The function label_feature(result, event) checks whether any of the labels \n",
    "# (except \"None\") appear in the event and uses that as a feature    \n",
    "def label_feature(result, event, sentence):\n",
    "    if \"binding\" in sentence:\n",
    "        result[\"Binding: \"] += 1\n",
    "    if \"gene expression\" in sentence:\n",
    "        result[\"Gene_expression: \"] += 1\n",
    "    if \"localization\" in sentence:\n",
    "        result[\"Localization: \"] += 1\n",
    "    if \"negative regulation\" in sentence:\n",
    "        result[\"Negative_regulation: \"] += 1\n",
    "    if \"phosphorylation\" in sentence:\n",
    "        result[\"Phosphorylation: \"] += 1\n",
    "    if \"positive regulation\" in sentence:\n",
    "        result[\"Positive_regulation: \"] += 1\n",
    "    if \"protein catabolism\" in sentence:\n",
    "        result[\"Protein_catabolism: \"] += 1\n",
    "    if \"regulation\" in sentence:\n",
    "        result[\"regulation: \"] += 1\n",
    "    if \"transcription\" in sentence:\n",
    "        result[\"Transcription: \"] += 1\n",
    "\n",
    "# The function check_negatives(result, event) checks whether one of the following \"negative\" \n",
    "# words appear in the sentence: \"negative\", \"no\" or \"not\". This check is then used as a \n",
    "# feature\n",
    "def check_negatives(result, event, sentence):\n",
    "    if (\"negative\" in sentence) or (\"no\" in sentence) or (\"not\" in sentence):\n",
    "        result[\"Negative: \"] += 1\n",
    "\n",
    "# The function none_like(result, event, trigger_word, index) checks whether the trigger word \n",
    "# is a none-like word (i.e. likely to correspond to a \"None\" output) and uses that as a feature\n",
    "# In particular, it checks whether the trigger word \n",
    "# - has children or parents dependencies \n",
    "# - is \"short\" (less than 3 characters)\n",
    "# - contains the symbols \"-\", \"/\" or \"\\\"\n",
    "def none_like(result, event, trigger_word, index):\n",
    "    l_c = len(event.sent.children[index])\n",
    "    l_p = len(event.sent.parents[index])\n",
    "    len_trigger = len(trigger_word)\n",
    "    if l_c == 0 and l_p == 0 and len_trigger <= 3 and not(((\"-\" in trigger_word) or (\"/\" in trigger_word)) or (\"\\\\\" in trigger_word)):\n",
    "        result[\"None_like: \"] += 1\n",
    "\n",
    "# The function get_top_head(head, event, visited) is the \"recursive implementation\" of the function that \n",
    "# returns the path between the trigger word and one of its top ancestors. It might return a partial path \n",
    "# in case of loops. \n",
    "def get_top_head(head, event, visited):\n",
    "    if len(event.sent.parents[head]) == 0:\n",
    "        path = event.sent.tokens[head][\"pos\"]\n",
    "        return path\n",
    "    else:\n",
    "        parent, label = event.sent.parents[head][0]\n",
    "        print(parent)\n",
    "        if parent in visited:\n",
    "            return \"\"\n",
    "        else:\n",
    "            visited.append(parent)\n",
    "            path = event.sent.tokens[head][\"pos\"] + \"->\" + label + \"->\" + get_top_head(parent,event,visited)\n",
    "            return path\n",
    "\n",
    "# The function get_top_head_while(head, event) is the \"while implementation\" of the function that \n",
    "# returns the path between the trigger word and one of its top ancestors. It might return a \n",
    "# partial path in case of loops. \n",
    "def get_top_head_while(head, event):\n",
    "    path = event.sent.tokens[head][\"pos\"]\n",
    "    visited = []\n",
    "    while len(event.sent.parents[head]) > 0 and head not in visited:\n",
    "        parent, label = event.sent.parents[head][0]\n",
    "        visited.append(parent)\n",
    "        path = path + \"->\" + label + \"->\" + event.sent.tokens[parent][\"pos\"]\n",
    "        head = parent\n",
    "    return path\n",
    "\n",
    "# The function get_number_of_arcs(path) returns the number of arcs in the string path\n",
    "def get_number_of_arcs(path):\n",
    "    return path.count(\"->\")/2\n",
    "\n",
    "# The function top_head_feature(result, event, index) gets the dependency distance from \n",
    "# the trigger word to one of its top ancestors. It might return a partial path in case of loops.\n",
    "def top_head_feature(result, event, index):\n",
    "    top_path = get_top_head_while(index, event)\n",
    "    result[\"Top_head_distance: \"] += get_number_of_arcs(top_path)\n",
    "    result[\"Top_Path: \" + top_path] += 1\n",
    "    \n",
    "def event_feat(event):\n",
    "    \"\"\"\n",
    "    This feature function returns a dictionary representation of the event candidate. You can improve the model \n",
    "    by improving this feature function.\n",
    "    Args:\n",
    "        event: the `EventCandidate` object to produce a feature dictionary for.\n",
    "    Returns:\n",
    "        a dictionary with feature keys/indices mapped to feature counts.\n",
    "    \"\"\"\n",
    "    result = defaultdict(float)\n",
    "    \n",
    "    # Create the string sentence for the event\n",
    "    sentence = make_sentence(event)\n",
    "    \n",
    "    # Trigger word name\n",
    "    trigger_word = event.sent.tokens[event.trigger_index]['word']\n",
    "    \n",
    "    # Trigger word's index\n",
    "    index = event.trigger_index\n",
    "    \n",
    "    # Trigger word's part of speech\n",
    "    trigger_pos = event.sent.tokens[index]['pos']\n",
    "    \n",
    "    # Trigger words's stem \n",
    "    trigger_stem = event.sent.tokens[index]['stem']\n",
    "    \n",
    "    # Feature 1: Token \n",
    "    result['trigger_word=' + trigger_word] += 1.0\n",
    "    \n",
    "    # Feature 2: Part of speech of the token \n",
    "    result['trigger_word_pos=' + trigger_pos] += 1.0\n",
    "    \n",
    "    # Feature 3: Stem of the word\n",
    "    result['trigger_word_stem=' + trigger_stem] += 1.0\n",
    "    \n",
    "    # Tried Feature: Check whether the trigger word is part of a protein\n",
    "    # result['Is_trigger_protein: '] = event.sent.is_protein[event.trigger_index]\n",
    "    \n",
    "    # Feature 4: Get rid of the trigger word's stem and use the remaining part\n",
    "    get_rid_of_stem_feat(result, event, trigger_word, trigger_stem)\n",
    "    \n",
    "    # Feature 5: Check whether the trigger word has a capital letter \n",
    "    has_capital(result, trigger_word)\n",
    "    \n",
    "    # Feature 6: Check whether the trigger word has a number\n",
    "    has_number(result, trigger_word)\n",
    "    \n",
    "    # Feature 7: Check whether the trigger word has one of these symbols: \"-\", \"/\" or \"\\\"\n",
    "    has_symbol(result, trigger_word)\n",
    "    \n",
    "    # Features 8 and 9: Check whether the trigger word is \"short\" and \"very short\" (i.e. bigram or trigram)\n",
    "    is_short(result, event, trigger_word, index) \n",
    "    \n",
    "    # Tried Feature: Add a bag of words features\n",
    "    # add_bag_of_words(result, event)\n",
    "    \n",
    "    # Feature 10: Check whether the trigger word is a stop word\n",
    "    is_stop_word(result, trigger_word)\n",
    "    \n",
    "    # Features 11-18: Add consecutive n-grams features\n",
    "    consecutive_grams(result, event, index)\n",
    "    \n",
    "    # Tried Feature: Find the word in the event with the maximum number of children \n",
    "    # max_children_word(result,event)\n",
    "    \n",
    "    # Features 19-20: Check whether the trigger word has dependencies (i.e. parents or children)\n",
    "    has_dependencies(result, event, index)\n",
    "    \n",
    "    # Tried Feature: Count the number of dependencies (i.e. number of parents and children) of the trigger word\n",
    "    # count_dependencies(result,event,index)\n",
    "    \n",
    "    # Tried Feature: Check whether the trigger word is the first word of the event \n",
    "    # result[\"Is_first_word: \"] += (event.trigger_index == 0)\n",
    "    \n",
    "    # Tried Feature: Check whether the trigger word is a punctuation symbol \n",
    "    # is_punctuation(result, trigger_word)\n",
    "    \n",
    "    # Feature 21: Count the number of proteins in a given event\n",
    "    number_of_proteins(result, event, index)\n",
    "    \n",
    "    # Feature 22: Count the number of candidate arguments in a given event\n",
    "    number_of_arguments(result, event)\n",
    "    \n",
    "    # Features 23-31: Check whether any of the labels (except \"None\") appear in the event\n",
    "    label_feature(result, event, sentence)\n",
    "    \n",
    "    # Feature 32: Check for a \"negative\" word, i.e. \"negative\", \"no\" or \"not\" in the event\n",
    "    check_negatives(result, event, sentence)\n",
    "    \n",
    "    # Feature 33: Check whether the stem of the trigger word is in the \"inhibition/decrease/negative\" list of words \n",
    "    # above, i.e. NEGATIVE_WORDS \n",
    "    result[\"Is_trigger_negative: \"] = (event.sent.tokens[event.trigger_index]['stem'].lower() in NEGATIVE_WORDS)\n",
    "    \n",
    "    # Tried feature: Get the dependency distance from the trigger word to one of its top ancestors. It might return a \n",
    "    # partial path in case of loops\n",
    "    # top_head_feature(result, event, index)\n",
    "    \n",
    "    # Tried Feature: string feature that results from the concatenation of all of the protein names appearing in \n",
    "    # a given observation/event. \n",
    "    # add_proteins_feats(result, event)\n",
    "    \n",
    "    # Features 34-48: Add children dependencies features of the trigger word \n",
    "    add_dependency_child_feats2(result, event, trigger_word, index, trigger_pos)\n",
    "    \n",
    "    # Features 49-54: Add parents dependencies features of the trigger word\n",
    "    add_dependency_parents_feats2(result, event, trigger_word, index, trigger_pos)\n",
    "    \n",
    "    return result\n",
    "\n",
    "# We convert the event candidates and their labels into vectors and integers, respectively.\n",
    "train_event_x = vectorizer.fit_transform([event_feat(x) for x,_ in event_train])\n",
    "train_event_y = label_encoder.fit_transform([y for _,y in event_train])\n",
    "\n",
    "# Create and train the model. Feel free to experiment with other parameters and learners.\n",
    "lr = LogisticRegression(C=2.3, class_weight=\"balanced\") # Optimized C parameter: 2.3\n",
    "lr.fit(train_event_x, train_event_y)\n",
    "\n",
    "def predict_event_labels(event_candidates):\n",
    "    \"\"\"\n",
    "    This function receives a list of `bio.EventCandidate` objects and predicts their labels. \n",
    "    It is currently implemented using scikit-learn, but you are free to replace it with any other\n",
    "    implementation as long as you fulfil its contract.\n",
    "    Args:\n",
    "        event_candidates: A list of `EventCandidate` objects to label.\n",
    "    Returns:\n",
    "        a list of event labels, where the i-th label belongs to the i-th event candidate in the input.\n",
    "    \"\"\"\n",
    "    event_x = vectorizer.transform([event_feat(e) for e in event_candidates])\n",
    "    event_y = label_encoder.inverse_transform(lr.predict(event_x))\n",
    "    return event_y"
   ]
  },
  {
   "cell_type": "markdown",
   "metadata": {},
   "source": [
    "It is useful to inspect the performance of your model, and see where it makes errors, both on the training set (to check for underfitting) and the development set. We have provided you with utility functions to help with this inspection. Note that you don't have to use these utilities, or the cells below, but it can help you to improve your model, and also with the error analysis and description of the approach in Task 3. \n",
    "\n",
    "First, we give you a breakdown of precision, recall and F1 on different event types:"
   ]
  },
  {
   "cell_type": "code",
   "execution_count": 43,
   "metadata": {
    "collapsed": false
   },
   "outputs": [
    {
     "data": {
      "text/html": [
       "<div>\n",
       "<table border=\"1\" class=\"dataframe\">\n",
       "  <thead>\n",
       "    <tr style=\"text-align: right;\">\n",
       "      <th></th>\n",
       "      <th>Label</th>\n",
       "      <th>Gold</th>\n",
       "      <th>Guess</th>\n",
       "      <th>Precision</th>\n",
       "      <th>Recall</th>\n",
       "      <th>F1</th>\n",
       "    </tr>\n",
       "  </thead>\n",
       "  <tbody>\n",
       "    <tr>\n",
       "      <th>0</th>\n",
       "      <td>Binding</td>\n",
       "      <td>180</td>\n",
       "      <td>198</td>\n",
       "      <td>0.616162</td>\n",
       "      <td>0.677778</td>\n",
       "      <td>0.645503</td>\n",
       "    </tr>\n",
       "    <tr>\n",
       "      <th>1</th>\n",
       "      <td>Gene_expression</td>\n",
       "      <td>377</td>\n",
       "      <td>389</td>\n",
       "      <td>0.796915</td>\n",
       "      <td>0.822281</td>\n",
       "      <td>0.809399</td>\n",
       "    </tr>\n",
       "    <tr>\n",
       "      <th>2</th>\n",
       "      <td>Localization</td>\n",
       "      <td>71</td>\n",
       "      <td>61</td>\n",
       "      <td>0.721311</td>\n",
       "      <td>0.619718</td>\n",
       "      <td>0.666667</td>\n",
       "    </tr>\n",
       "    <tr>\n",
       "      <th>3</th>\n",
       "      <td>Negative_regulation</td>\n",
       "      <td>210</td>\n",
       "      <td>218</td>\n",
       "      <td>0.614679</td>\n",
       "      <td>0.638095</td>\n",
       "      <td>0.626168</td>\n",
       "    </tr>\n",
       "    <tr>\n",
       "      <th>4</th>\n",
       "      <td>Phosphorylation</td>\n",
       "      <td>32</td>\n",
       "      <td>28</td>\n",
       "      <td>0.928571</td>\n",
       "      <td>0.812500</td>\n",
       "      <td>0.866667</td>\n",
       "    </tr>\n",
       "    <tr>\n",
       "      <th>5</th>\n",
       "      <td>Positive_regulation</td>\n",
       "      <td>570</td>\n",
       "      <td>637</td>\n",
       "      <td>0.574568</td>\n",
       "      <td>0.642105</td>\n",
       "      <td>0.606462</td>\n",
       "    </tr>\n",
       "    <tr>\n",
       "      <th>6</th>\n",
       "      <td>Protein_catabolism</td>\n",
       "      <td>21</td>\n",
       "      <td>23</td>\n",
       "      <td>0.695652</td>\n",
       "      <td>0.761905</td>\n",
       "      <td>0.727273</td>\n",
       "    </tr>\n",
       "    <tr>\n",
       "      <th>7</th>\n",
       "      <td>Regulation</td>\n",
       "      <td>188</td>\n",
       "      <td>187</td>\n",
       "      <td>0.540107</td>\n",
       "      <td>0.537234</td>\n",
       "      <td>0.538667</td>\n",
       "    </tr>\n",
       "    <tr>\n",
       "      <th>8</th>\n",
       "      <td>Transcription</td>\n",
       "      <td>112</td>\n",
       "      <td>114</td>\n",
       "      <td>0.596491</td>\n",
       "      <td>0.607143</td>\n",
       "      <td>0.601770</td>\n",
       "    </tr>\n",
       "    <tr>\n",
       "      <th>9</th>\n",
       "      <td>[All]</td>\n",
       "      <td>1761</td>\n",
       "      <td>1855</td>\n",
       "      <td>0.639892</td>\n",
       "      <td>0.674049</td>\n",
       "      <td>0.656527</td>\n",
       "    </tr>\n",
       "  </tbody>\n",
       "</table>\n",
       "</div>"
      ],
      "text/plain": [
       "                 Label  Gold  Guess  Precision    Recall        F1\n",
       "0              Binding   180    198   0.616162  0.677778  0.645503\n",
       "1      Gene_expression   377    389   0.796915  0.822281  0.809399\n",
       "2         Localization    71     61   0.721311  0.619718  0.666667\n",
       "3  Negative_regulation   210    218   0.614679  0.638095  0.626168\n",
       "4      Phosphorylation    32     28   0.928571  0.812500  0.866667\n",
       "5  Positive_regulation   570    637   0.574568  0.642105  0.606462\n",
       "6   Protein_catabolism    21     23   0.695652  0.761905  0.727273\n",
       "7           Regulation   188    187   0.540107  0.537234  0.538667\n",
       "8        Transcription   112    114   0.596491  0.607143  0.601770\n",
       "9                [All]  1761   1855   0.639892  0.674049  0.656527"
      ]
     },
     "execution_count": 43,
     "metadata": {},
     "output_type": "execute_result"
    }
   ],
   "source": [
    "# This line calls your function to produce labels for the test set\n",
    "event_dev_guess = predict_event_labels([x for x,_ in event_dev[:]])\n",
    "# This line produces a confusion matrix\n",
    "cm_dev = bio.create_confusion_matrix(event_dev,event_dev_guess)  \n",
    "# This line turns the confusion matrix into a evaluation table with Precision, Recall and F1 for all labels.\n",
    "bio.full_evaluation_table(cm_dev)"
   ]
  },
  {
   "cell_type": "markdown",
   "metadata": {},
   "source": [
    "It is useful to inspect [bio.py](/edit/statnlpbook/bio.py) to see how we define precision, recall and F1 score in this context.\n",
    "\n",
    "You can also display a confusion matrix to identify what types of errors you are currently making. Notice that the matrix ignores the \"None\"-\"None\" cell as its counts would overpower all other counts (try removing the `outside_label` argument). "
   ]
  },
  {
   "cell_type": "code",
   "execution_count": 44,
   "metadata": {
    "collapsed": false
   },
   "outputs": [
    {
     "data": {
      "image/png": "[encoded data removed]",
      "text/plain": [
       "<matplotlib.figure.Figure at 0x7f51443157b8>"
      ]
     },
     "metadata": {},
     "output_type": "display_data"
    }
   ],
   "source": [
    "import statnlpbook.util as util\n",
    "util.plot_confusion_matrix_dict(cm_dev,90, outside_label=\"None\")"
   ]
  },
  {
   "cell_type": "markdown",
   "metadata": {},
   "source": [
    "The confusion matrix can give you hints on what type of errors you should look for and improve upon. This macro view on your model's performance is often more powerful when combined with a micro view on the instances that produce these errors. You can find errors of a specific type using `bio.find_errors` as shown below:"
   ]
  },
  {
   "cell_type": "code",
   "execution_count": 45,
   "metadata": {
    "collapsed": false
   },
   "outputs": [
    {
     "data": {
      "text/plain": [
       "[(<statnlpbook.bio.EventCandidate at 0x7f51195ccb00>, 'Transcription', 'None'),\n",
       " (<statnlpbook.bio.EventCandidate at 0x7f5119590b00>, 'Transcription', 'None'),\n",
       " (<statnlpbook.bio.EventCandidate at 0x7f5119597278>, 'Transcription', 'None')]"
      ]
     },
     "execution_count": 45,
     "metadata": {},
     "output_type": "execute_result"
    }
   ],
   "source": [
    "errors = bio.find_errors(\"Transcription\",\"None\", event_dev, event_dev_guess)[:3]\n",
    "errors"
   ]
  },
  {
   "cell_type": "markdown",
   "metadata": {},
   "source": [
    "These errors you can then inspect in detail via `show_event_error`:"
   ]
  },
  {
   "cell_type": "code",
   "execution_count": 46,
   "metadata": {
    "collapsed": false
   },
   "outputs": [
    {
     "data": {
      "text/html": [
       "<table border=\"1\" class=\"dataframe\">\n",
       "  <thead>\n",
       "    <tr style=\"text-align: right;\">\n",
       "      <th>Gold</th>\n",
       "      <th>Guess</th>\n",
       "    </tr>\n",
       "  </thead>\n",
       "  <tbody>\n",
       "    <tr>\n",
       "      <td>Transcription</td>\n",
       "      <td>None</td>\n",
       "    </tr>\n",
       "  </tbody>\n",
       "</table>The <font color='red'>[</font><font color='blue'>[LAZ3]</font><font color='red'>]</font> <font color='red'>[</font><font color='blue'>[/BCL6]</font><font color='red'>]</font> <font color='red'>[</font>transcript<font color='red'>]</font> was <font color='green'>found</font> in a variety <font color='red'>[</font>of<font color='red'>]</font> tissues , <font color='red'>[</font>including<font color='red'>]</font> skeletal muscle , peripheral blood leukocytes , and <font color='red'>[</font>weakly<font color='red'>]</font> in normal lymph nodes .\n",
       "    <div id='displacy5' style=\"overflow: scroll; width: 5000px;\"></div>\n",
       "    <script>\n",
       "    $(function() {\n",
       "    requirejs.config({\n",
       "        paths: {\n",
       "            'displaCy': ['/files/node_modules/displacy/displacy'],\n",
       "                                                  // strip .js ^, require adds it back\n",
       "        },\n",
       "    });\n",
       "    require(['displaCy'], function() {\n",
       "        console.log(\"Loaded :)\");\n",
       "        const displacy = new displaCy('http://localhost:8000', {\n",
       "            container: '#displacy5',\n",
       "            format: 'spacy',\n",
       "            distance: 150,\n",
       "            offsetX: 0,\n",
       "            wordSpacing: 20,\n",
       "            arrowSpacing: 3,\n",
       "\n",
       "        });\n",
       "        const parse = {\n",
       "            arcs: [{\"end\": 3, \"label\": \"det\", \"start\": 0, \"dir\": \"left\"}, {\"end\": 3, \"label\": \"nn\", \"start\": 1, \"dir\": \"left\"}, {\"end\": 3, \"label\": \"nn\", \"start\": 2, \"dir\": \"left\"}, {\"end\": 5, \"label\": \"nsubjpass\", \"start\": 3, \"dir\": \"left\"}, {\"end\": 5, \"label\": \"auxpass\", \"start\": 4, \"dir\": \"left\"}, {\"end\": 8, \"label\": \"det\", \"start\": 7, \"dir\": \"left\"}, {\"end\": 8, \"label\": \"prep_in\", \"start\": 5, \"dir\": \"right\"}, {\"end\": 10, \"label\": \"prep_of\", \"start\": 8, \"dir\": \"right\"}, {\"end\": 14, \"label\": \"amod\", \"start\": 13, \"dir\": \"left\"}, {\"end\": 14, \"label\": \"prep_including\", \"start\": 10, \"dir\": \"right\"}, {\"end\": 18, \"label\": \"amod\", \"start\": 16, \"dir\": \"left\"}, {\"end\": 18, \"label\": \"nn\", \"start\": 17, \"dir\": \"left\"}, {\"end\": 18, \"label\": \"appos\", \"start\": 14, \"dir\": \"right\"}, {\"end\": 21, \"label\": \"prep_including\", \"start\": 10, \"dir\": \"right\"}, {\"end\": 21, \"label\": \"conj_and\", \"start\": 14, \"dir\": \"right\"}, {\"end\": 25, \"label\": \"amod\", \"start\": 23, \"dir\": \"left\"}, {\"end\": 25, \"label\": \"nn\", \"start\": 24, \"dir\": \"left\"}, {\"end\": 25, \"label\": \"prep_in\", \"start\": 21, \"dir\": \"right\"}],\n",
       "            words: [{\"tag\": \"DT\", \"text\": \"The\"}, {\"tag\": \"NN\", \"text\": \"LAZ3\"}, {\"tag\": \"NN\", \"text\": \"/BCL6\"}, {\"tag\": \"NN\", \"text\": \"transcript\"}, {\"tag\": \"VBD\", \"text\": \"was\"}, {\"tag\": \"VBN\", \"text\": \"found\"}, {\"tag\": \"IN\", \"text\": \"in\"}, {\"tag\": \"DT\", \"text\": \"a\"}, {\"tag\": \"NN\", \"text\": \"variety\"}, {\"tag\": \"IN\", \"text\": \"of\"}, {\"tag\": \"NNS\", \"text\": \"tissues\"}, {\"tag\": \",\", \"text\": \",\"}, {\"tag\": \"VBG\", \"text\": \"including\"}, {\"tag\": \"JJ\", \"text\": \"skeletal\"}, {\"tag\": \"NN\", \"text\": \"muscle\"}, {\"tag\": \",\", \"text\": \",\"}, {\"tag\": \"JJ\", \"text\": \"peripheral\"}, {\"tag\": \"NN\", \"text\": \"blood\"}, {\"tag\": \"NNS\", \"text\": \"leukocytes\"}, {\"tag\": \",\", \"text\": \",\"}, {\"tag\": \"CC\", \"text\": \"and\"}, {\"tag\": \"RB\", \"text\": \"weakly\"}, {\"tag\": \"IN\", \"text\": \"in\"}, {\"tag\": \"JJ\", \"text\": \"normal\"}, {\"tag\": \"NN\", \"text\": \"lymph\"}, {\"tag\": \"NNS\", \"text\": \"nodes\"}, {\"tag\": \".\", \"text\": \".\"}]\n",
       "        };\n",
       "\n",
       "        displacy.render(parse, {\n",
       "            uniqueId: 'render_displacy5'\n",
       "            //color: '#ff0000'\n",
       "        });\n",
       "        return {};\n",
       "    });\n",
       "    });\n",
       "    </script>"
      ],
      "text/plain": [
       "<IPython.core.display.HTML object>"
      ]
     },
     "execution_count": 46,
     "metadata": {},
     "output_type": "execute_result"
    }
   ],
   "source": [
    "bio.show_event_error(*errors[0])"
   ]
  },
  {
   "cell_type": "markdown",
   "metadata": {},
   "source": [
    "It can also be very useful to inspect your feature map for the given instance. Sometimes this leads you to find out that you have a bug in your feature calculation, or that the feature representation is still insufficient for other reasons."
   ]
  },
  {
   "cell_type": "code",
   "execution_count": 47,
   "metadata": {
    "collapsed": false
   },
   "outputs": [
    {
     "data": {
      "text/plain": [
       "defaultdict(float,\n",
       "            {'Child: auxpass->was': 1.0,\n",
       "             'Child: nsubjpass->transcript': 1.0,\n",
       "             'Child: prep_in->variety': 1.0,\n",
       "             'Child_candidate: transcript': 1.0,\n",
       "             'Child_candidate: variety': 0.0,\n",
       "             'Child_candidate: was': 0.0,\n",
       "             'Child_dependency_type: auxpass': 1.0,\n",
       "             'Child_dependency_type: nsubjpass': 1.0,\n",
       "             'Child_dependency_type: prep_in': 1.0,\n",
       "             'Child_pos: NN': 2.0,\n",
       "             'Child_pos: VBD': 1.0,\n",
       "             'Child_pos_dependency: NN nsubjpass': 1.0,\n",
       "             'Child_pos_dependency: NN prep_in': 1.0,\n",
       "             'Child_pos_dependency: VBD auxpass': 1.0,\n",
       "             'Child_protein: transcript': 0.0,\n",
       "             'Child_protein: variety': 0.0,\n",
       "             'Child_protein: was': 0.0,\n",
       "             'Grand_child_candidate: /BCL6': 1.0,\n",
       "             'Grand_child_candidate: LAZ3': 1.0,\n",
       "             'Grand_child_candidate: The': 0.0,\n",
       "             'Grand_child_candidate: a': 0.0,\n",
       "             'Grand_child_candidate: tissues': 0.0,\n",
       "             'Grand_child_dependency: DT det': 2.0,\n",
       "             'Grand_child_dependency: NN nn': 2.0,\n",
       "             'Grand_child_dependency: NNS prep_of': 1.0,\n",
       "             'Grand_child_pos: DT': 2.0,\n",
       "             'Grand_child_pos: NN': 2.0,\n",
       "             'Grand_child_pos: NNS': 1.0,\n",
       "             'Grand_child_protein_path: VBN->nsubjpass->NN->nn->NN': 2.0,\n",
       "             'Has_capital: ': False,\n",
       "             'Has_children: ': True,\n",
       "             'Has_grand_child_protein: ': True,\n",
       "             'Has_number: ': False,\n",
       "             'Has_parents: ': False,\n",
       "             'Has_symbol: ': False,\n",
       "             'Is_short: ': False,\n",
       "             'Is_stop_word: ': True,\n",
       "             'Is_trigger_negative: ': False,\n",
       "             'Is_very_short: ': False,\n",
       "             'Negative: ': 1.0,\n",
       "             'Number_of_arguments: ': 6,\n",
       "             'Number_of_proteins: found': 2.0,\n",
       "             'Rest_trigger: ': 1.0,\n",
       "             'Trigger_Candidate: foundtranscript': 1.0,\n",
       "             'Trigger_Candidate: foundvariety': 0.0,\n",
       "             'Trigger_Candidate: foundwas': 0.0,\n",
       "             'Trigger_minus_1: was': 1.0,\n",
       "             'Trigger_minus_1_pos: VBD': 1.0,\n",
       "             'Trigger_plus_1: in': 1.0,\n",
       "             'Trigger_plus_1_pos: IN': 1.0,\n",
       "             'trigger_word=found': 1.0,\n",
       "             'trigger_word_pos=VBN': 1.0,\n",
       "             'trigger_word_stem=found': 1.0})"
      ]
     },
     "execution_count": 47,
     "metadata": {},
     "output_type": "execute_result"
    }
   ],
   "source": [
    "event_feat(errors[0][0])"
   ]
  },
  {
   "cell_type": "markdown",
   "metadata": {},
   "source": [
    "## <font color='red'>Assessment 2</font>: Assess Accuracy (50 pts) \n",
    "\n",
    "We assess how well your model performs on some unseen test set. We will look at the F1 across all event types, and will score them as follows:\n",
    "\n",
    "* 0-40pts: 17% <= F1 < 60%, linear\n",
    "* 40-50pts: 60% <= F1 < Best Result, linear\n",
    "\n",
    "The **linear** mapping maps any F1 value between the lower and upper bound linearly to a score. For example, if your model's F1 score is $F=55$, then your score is $40\\frac{F-17}{60-17}$. \n",
    "\n",
    "The *Best-Result* perplexity is the maximum of the best perplexity the course organiser achieved, and the submitted F1 scores.  "
   ]
  },
  {
   "cell_type": "code",
   "execution_count": 48,
   "metadata": {
    "collapsed": false
   },
   "outputs": [
    {
     "data": {
      "text/plain": [
       "0.6565265486725663"
      ]
     },
     "execution_count": 48,
     "metadata": {},
     "output_type": "execute_result"
    }
   ],
   "source": [
    "#! ASSESSMENT 2 - DO NOT CHANGE, MOVE NOR COPY\n",
    "_snlp_event_test = event_dev # This line will be changed by us after submission to point to a test set.\n",
    "_snlp_event_test_guess = predict_event_labels([x for x,_ in _snlp_event_test[:]])\n",
    "_snlp_cm_test = bio.create_confusion_matrix(_snlp_event_test,_snlp_event_test_guess)  \n",
    "bio.evaluate(_snlp_cm_test)[2] # This is the F1 score"
   ]
  },
  {
   "cell_type": "markdown",
   "metadata": {},
   "source": [
    "## <font color='orange'>Mark</font>:  Your solution to Task 2 is marked with ** __ points**. \n",
    "---"
   ]
  },
  {
   "cell_type": "markdown",
   "metadata": {},
   "source": [
    "## <font color='blue'>Task 3</font>: Describe your Approach\n",
    "\n",
    "When I started working on the features for the event trigger labeler, I decided to organise my code neatly by writing feature functions to be called in the main input-features mapping function <i>event_feat(event)</i>. In particular, each of these feature functions adds one or more same-theme features to a given input by creating the corresponding entries in the dictionary <i>result</i>. It's worth pointing out that I inserted a few one-line features directly into <i>event_feat(event)</i> in order to allow other functions to use them without having to recalculate them. <br>\n",
    "When I started working on this assignment, I got inspired by the feature function developed for task 1 and started creating new features involving trigger word's dependencies, i.e. children, grandchildren, parents and grandparents. These features improved upon the F1 score performance of the single-feature trigger word mapping function originally provided. That said, I quickly started noticing that the trigger word's children features played a bigger role in my performance improvement than the trigger word's parents. This is also reflected in the fact that my final versions of the trigger word's children and parents feature functions, i.e. <i>add_dependency_child_feats2(result, event, trigger_word, index, trigger_pos)</i> and <i>add_dependency_parents_feats2(result, event, trigger_word, index, trigger_pos)</i>, have 15 and 6 features, respectively. Then, I started reading a few academic articles on feature-based biomedical event extraction and found a <b>very interesting paper</b> written by Lishuang Li, Yiwen Wang and Degen Huang, i.e. <b><i>Improving Feature-Based Biomedical Event Extraction System by Integrating Argument Information</i></b>. In fact, even though the features presented in the paper were designed to perform trigger detection, some of these features proved to be quite useful for the task in this assignment. Examples of these features are features 1 to 9 (see the code above). While simple features tended to improve the F1 score performance, the event's \"bag of words\" feature did not end up working very well. It's worth mentioning that I might have not implemented all of these features exactly as they were implented in the above-cited paper. Hence, I went on to implement other simple successful features such as checking whether the trigger word is a \"stop word\" or a \"negative word\" as well as unsuccessful features such as checking whether the trigger word is the first word of the event or a punctuation symbol. Features such as checking whether any of the possible trigger labels (except \"None\") or a \"negative word\", i.e. \"negative\", \"no\" or \"not\", appear in a given event helped me slightly improve the algorithm's performance. On the other hand, the F1 score received a great boost when I started considering features concerning proteins and candidate arguments (e.g. features 21 and 22). Moreover, I could further improve my performance by inserting new features related to proteins and candidate arguments in the trigger word's dependency feature functions. I found quite disappointing the fact that a neat feature such as the dependency distance from the trigger word to one of its top ancestors (see the <i>top_head_feature(result, event, index)</i> in the code above) did not really help improving my code's performance. At the very end of my feature engineering work, I optimized the logistic regression parameter <b>C</b> offline between 0 and 10 and found its optimal value to be approximately <b>2.3</b>. My final <b>F1 score</b> was <b>0.6565</b>. <br>\n",
    "Even though my code performs quite well on most of the categories, some very troubling problems remain when it comes to the \"None\" and \"Positive_regulation\" categories. In fact, the algorithm makes a considerable number of classification errors in cases where the samples are classified as \"None\" but are something else and in cases where the samples are classified as something else but are actually labelled \"None\" (see confusion matrix above). One of the causes of this situation can probably be found in the fact that the <b>\"None\" events make up almost 90% of the event corpus</b> (64704 \"None\" events out of 71986), which greatly affects training and predictions. Moreover, when looking at the confusion matrix, it appears that my system cannot get any predictions correct when it comes to recognising actual \"None\" samples and predicting them as \"None\". The algorithm also struggles and makes several errors when it comes to discriminating the categories \"None\" and \"Positive_regulation\". I managed to improve my F1 score by a little bit after using the attribute <i>class_weight=\"balanced\"</i> in the logistic regression in order to adjust the weights in an inversely proportional way with respect to the class frequencies (http://scikitlearn.org/stable/modules/generated/sklearn.linear_model.LogisticRegression.html). However, better results could probably be achieved if the algorithm was trained on a balanced dataset. Furthermore, in order to improve the F1 score, it would be very useful to come up with very good features that can discriminate \"None\" samples from everything else and \"Positive_regulation\" samples from \"None\" inputs. <br>\n",
    "<b> The final version of my code includes 54 features (excluding the discarded features). All of these features are well commented and organised in my code (see above). </b> \n",
    "\n",
    "\n"
   ]
  },
  {
   "cell_type": "markdown",
   "metadata": {},
   "source": [
    "## <font color='red'>Assessment 3</font>: Assess Description (30 pts) \n",
    "\n",
    "We will mark the description along the following dimensions: \n",
    "\n",
    "* Clarity (10pts: very clear, 0pts: we can't figure out what you did)\n",
    "* Creativity (10pts: we could not have come up with this, 0pts: Use only word based features of the trigger word)\n",
    "* Substance (10pts: implemented complex state-of-the-art classifier, 0pts: Only use what is already there)"
   ]
  },
  {
   "cell_type": "markdown",
   "metadata": {},
   "source": [
    "## <font color='orange'>Mark</font>:  Your solution to Task 3 is marked with ** __ points**.\n",
    "---"
   ]
  },
  {
   "cell_type": "markdown",
   "metadata": {},
   "source": [
    "## <font color='orange'>Final mark</font>: Your solution to Assignment 2 is marked with ** __points**. "
   ]
  }
 ],
 "metadata": {
  "kernelspec": {
   "display_name": "Python 3",
   "language": "python",
   "name": "python3"
  },
  "language_info": {
   "codemirror_mode": {
    "name": "ipython",
    "version": 3
   },
   "file_extension": ".py",
   "mimetype": "text/x-python",
   "name": "python",
   "nbconvert_exporter": "python",
   "pygments_lexer": "ipython3",
   "version": "3.5.2"
  }
 },
 "nbformat": 4,
 "nbformat_minor": 0
}
